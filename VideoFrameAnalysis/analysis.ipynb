{
 "cells": [
  {
   "cell_type": "code",
   "execution_count": 1,
   "metadata": {},
   "outputs": [
    {
     "name": "stdout",
     "output_type": "stream",
     "text": [
      "Extracted 632 frames.\n"
     ]
    }
   ],
   "source": [
    "## Extracting the video frames to the folder\n",
    "\n",
    "import cv2\n",
    "import os\n",
    "\n",
    "def extract_frames(video_path, output_folder):\n",
    "    # Create output folder if it doesn't exist\n",
    "    if not os.path.exists(output_folder):\n",
    "        os.makedirs(output_folder)\n",
    "\n",
    "    # Open the video file\n",
    "    cap = cv2.VideoCapture(video_path)\n",
    "\n",
    "    # Read and save frames until the end of the video\n",
    "    frame_count = 0\n",
    "    while cap.isOpened():\n",
    "        ret, frame = cap.read()\n",
    "        if ret:\n",
    "            # Save frame as an image\n",
    "            frame_path = os.path.join(output_folder, f\"frame_{frame_count}.jpg\")\n",
    "            cv2.imwrite(frame_path, frame)\n",
    "\n",
    "            frame_count += 1\n",
    "        else:\n",
    "            break\n",
    "\n",
    "    # Release the video capture object\n",
    "    cap.release()\n",
    "\n",
    "    print(f\"Extracted {frame_count} frames.\")\n",
    "\n",
    "extract_frames(\"/Users/mits-mac-001/Code/simple_classifier/VideoFrameAnalysis/VID_20240213_090032.mp4\", \"/Users/mits-mac-001/Code/simple_classifier/VideoFrameAnalysis/Video Frames\")\n"
   ]
  },
  {
   "cell_type": "code",
   "execution_count": 5,
   "metadata": {},
   "outputs": [],
   "source": [
    "from PIL import Image\n",
    "import numpy as np\n",
    "\n",
    "def fuzzy_image_comparison(image_path1, image_path2):\n",
    "    # Load the two images\n",
    "    image1 = Image.open(image_path1)\n",
    "    image2 = Image.open(image_path2)\n",
    "\n",
    "    # Convert images to grayscale\n",
    "    gray1 = image1.convert('L')\n",
    "    gray2 = image2.convert('L')\n",
    "\n",
    "    # Calculate histograms of pixel intensities\n",
    "    hist1, _ = np.histogram(gray1, bins=256, range=(0, 255))\n",
    "    hist2, _ = np.histogram(gray2, bins=256, range=(0, 255))\n",
    "\n",
    "    # Normalize histograms to sum to 1\n",
    "    hist1 = hist1 / np.sum(hist1)\n",
    "    hist2 = hist2 / np.sum(hist2)\n",
    "\n",
    "    # Calculate similarity score using fuzzy set intersection\n",
    "    intersection = np.minimum(hist1, hist2)\n",
    "    similarity_score = np.sum(intersection)\n",
    "\n",
    "    return similarity_score\n"
   ]
  },
  {
   "cell_type": "code",
   "execution_count": 7,
   "metadata": {},
   "outputs": [],
   "source": [
    "from glob import glob \n",
    "from tqdm import tqdm\n",
    "import time\n",
    "\n",
    "\n",
    "all_frames = glob(\"/Users/mits-mac-001/Code/simple_classifier/VideoFrameAnalysis/Video Frames/*.jpg\")\n",
    "\n",
    "similarity_scores = []\n",
    "\n",
    "a = time.time()\n",
    "\n",
    "for i in tqdm(range(len(all_frames) - 1)):\n",
    "    similarity_scores.append(fuzzy_image_comparison(all_frames[i], all_frames[i+1]))\n",
    "\n",
    "print((time.time() - a)/ len(all_frames))"
   ]
  },
  {
   "cell_type": "code",
   "execution_count": null,
   "metadata": {},
   "outputs": [],
   "source": [
    "print(similarity_scores)"
   ]
  }
 ],
 "metadata": {
  "kernelspec": {
   "display_name": "Python 3",
   "language": "python",
   "name": "python3"
  },
  "language_info": {
   "codemirror_mode": {
    "name": "ipython",
    "version": 3
   },
   "file_extension": ".py",
   "mimetype": "text/x-python",
   "name": "python",
   "nbconvert_exporter": "python",
   "pygments_lexer": "ipython3",
   "version": "3.9.6"
  }
 },
 "nbformat": 4,
 "nbformat_minor": 2
}
